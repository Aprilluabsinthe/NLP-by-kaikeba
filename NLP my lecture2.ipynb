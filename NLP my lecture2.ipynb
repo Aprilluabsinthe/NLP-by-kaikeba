{
 "cells": [
  {
   "cell_type": "markdown",
   "metadata": {},
   "source": [
    "## bulid graph"
   ]
  },
  {
   "cell_type": "code",
   "execution_count": 77,
   "metadata": {},
   "outputs": [],
   "source": [
    "coordination_source = \"\"\"\n",
    "{name:'兰州', geoCoord:[103.73, 36.03]},\n",
    "{name:'嘉峪关', geoCoord:[98.17, 39.47]},\n",
    "{name:'西宁', geoCoord:[101.74, 36.56]},\n",
    "{name:'成都', geoCoord:[104.06, 30.67]},\n",
    "{name:'石家庄', geoCoord:[114.48, 38.03]},\n",
    "{name:'拉萨', geoCoord:[102.73, 25.04]},\n",
    "{name:'贵阳', geoCoord:[106.71, 26.57]},\n",
    "{name:'武汉', geoCoord:[114.31, 30.52]},\n",
    "{name:'郑州', geoCoord:[113.65, 34.76]},\n",
    "{name:'济南', geoCoord:[117, 36.65]},\n",
    "{name:'南京', geoCoord:[118.78, 32.04]},\n",
    "{name:'合肥', geoCoord:[117.27, 31.86]},\n",
    "{name:'杭州', geoCoord:[120.19, 30.26]},\n",
    "{name:'南昌', geoCoord:[115.89, 28.68]},\n",
    "{name:'福州', geoCoord:[119.3, 26.08]},\n",
    "{name:'广州', geoCoord:[113.23, 23.16]},\n",
    "{name:'长沙', geoCoord:[113, 28.21]},\n",
    "//{name:'海口', geoCoord:[110.35, 20.02]},\n",
    "{name:'沈阳', geoCoord:[123.38, 41.8]},\n",
    "{name:'长春', geoCoord:[125.35, 43.88]},\n",
    "{name:'哈尔滨', geoCoord:[126.63, 45.75]},\n",
    "{name:'太原', geoCoord:[112.53, 37.87]},\n",
    "{name:'西安', geoCoord:[108.95, 34.27]},\n",
    "//{name:'台湾', geoCoord:[121.30, 25.03]},\n",
    "{name:'北京', geoCoord:[116.46, 39.92]},\n",
    "{name:'上海', geoCoord:[121.48, 31.22]},\n",
    "{name:'重庆', geoCoord:[106.54, 29.59]},\n",
    "{name:'天津', geoCoord:[117.2, 39.13]},\n",
    "{name:'呼和浩特', geoCoord:[111.65, 40.82]},\n",
    "{name:'南宁', geoCoord:[108.33, 22.84]},\n",
    "//{name:'西藏', geoCoord:[91.11, 29.97]},\n",
    "{name:'银川', geoCoord:[106.27, 38.47]},\n",
    "{name:'乌鲁木齐', geoCoord:[87.68, 43.77]},\n",
    "{name:'香港', geoCoord:[114.17, 22.28]},\n",
    "{name:'澳门', geoCoord:[113.54, 22.19]}\n",
    "\"\"\""
   ]
  },
  {
   "cell_type": "code",
   "execution_count": 78,
   "metadata": {},
   "outputs": [],
   "source": [
    "import re"
   ]
  },
  {
   "cell_type": "code",
   "execution_count": 79,
   "metadata": {},
   "outputs": [],
   "source": [
    "l = \"color or colour\""
   ]
  },
  {
   "cell_type": "code",
   "execution_count": 80,
   "metadata": {},
   "outputs": [
    {
     "data": {
      "text/plain": [
       "['color', 'colour']"
      ]
     },
     "execution_count": 80,
     "metadata": {},
     "output_type": "execute_result"
    }
   ],
   "source": [
    "pattern = re.compile(\"colou?r\")\n",
    "pattern.findall(l)"
   ]
  },
  {
   "cell_type": "code",
   "execution_count": 81,
   "metadata": {},
   "outputs": [
    {
     "data": {
      "text/plain": [
       "['color', 'colour']"
      ]
     },
     "execution_count": 81,
     "metadata": {},
     "output_type": "execute_result"
    }
   ],
   "source": [
    "pattern.findall(l)"
   ]
  },
  {
   "cell_type": "code",
   "execution_count": 82,
   "metadata": {},
   "outputs": [],
   "source": [
    "def get_city_info(city_coordination):\n",
    "    city_location={}\n",
    "    for line in city_coordination.split('\\n'):\n",
    "        if line.startswith(\"//\"):continue\n",
    "        if line.strip() == \"\":continue\n",
    "        \n",
    "        city = re.findall(\"name:'(\\w+)'\",line)[0]\n",
    "        x_y = re.findall(\"Coord:\\[(\\d+.\\d+),\\s(\\d+.\\d+)\\]\",line)[0]\n",
    "        x_y = tuple(map(float, x_y))\n",
    "        city_location[city] = x_y\n",
    "        \n",
    "    return city_location"
   ]
  },
  {
   "cell_type": "code",
   "execution_count": 83,
   "metadata": {},
   "outputs": [],
   "source": [
    "city_info = get_city_info(coordination_source)"
   ]
  },
  {
   "cell_type": "code",
   "execution_count": 84,
   "metadata": {},
   "outputs": [
    {
     "data": {
      "text/plain": [
       "{'兰州': (103.73, 36.03),\n",
       " '嘉峪关': (98.17, 39.47),\n",
       " '西宁': (101.74, 36.56),\n",
       " '成都': (104.06, 30.67),\n",
       " '石家庄': (114.48, 38.03),\n",
       " '拉萨': (102.73, 25.04),\n",
       " '贵阳': (106.71, 26.57),\n",
       " '武汉': (114.31, 30.52),\n",
       " '郑州': (113.65, 34.76),\n",
       " '济南': (117.0, 36.65),\n",
       " '南京': (118.78, 32.04),\n",
       " '合肥': (117.27, 31.86),\n",
       " '杭州': (120.19, 30.26),\n",
       " '南昌': (115.89, 28.68),\n",
       " '福州': (119.3, 26.08),\n",
       " '广州': (113.23, 23.16),\n",
       " '长沙': (113.0, 28.21),\n",
       " '沈阳': (123.38, 41.8),\n",
       " '长春': (125.35, 43.88),\n",
       " '哈尔滨': (126.63, 45.75),\n",
       " '太原': (112.53, 37.87),\n",
       " '西安': (108.95, 34.27),\n",
       " '北京': (116.46, 39.92),\n",
       " '上海': (121.48, 31.22),\n",
       " '重庆': (106.54, 29.59),\n",
       " '天津': (117.2, 39.13),\n",
       " '呼和浩特': (111.65, 40.82),\n",
       " '南宁': (108.33, 22.84),\n",
       " '银川': (106.27, 38.47),\n",
       " '乌鲁木齐': (87.68, 43.77),\n",
       " '香港': (114.17, 22.28),\n",
       " '澳门': (113.54, 22.19)}"
      ]
     },
     "execution_count": 84,
     "metadata": {},
     "output_type": "execute_result"
    }
   ],
   "source": [
    "city_info"
   ]
  },
  {
   "cell_type": "markdown",
   "metadata": {},
   "source": [
    "## compute distince between cities"
   ]
  },
  {
   "cell_type": "code",
   "execution_count": 85,
   "metadata": {},
   "outputs": [],
   "source": [
    "import math"
   ]
  },
  {
   "cell_type": "code",
   "execution_count": 86,
   "metadata": {},
   "outputs": [],
   "source": [
    "def geo_distance(origin, destination):\n",
    "    \"\"\"\n",
    "    Calculate the Haversine distance.\n",
    "\n",
    "    Parameters\n",
    "    ----------\n",
    "    origin : tuple of float\n",
    "        (lat, long)\n",
    "    destination : tuple of float\n",
    "        (lat, long)\n",
    "\n",
    "    Returns\n",
    "    -------\n",
    "    distance_in_km : float\n",
    "\n",
    "    Examples\n",
    "    --------\n",
    "    >>> origin = (48.1372, 11.5756)  # Munich\n",
    "    >>> destination = (52.5186, 13.4083)  # Berlin\n",
    "    >>> round(distance(origin, destination), 1)\n",
    "    504.2\n",
    "    \"\"\"\n",
    "    lat1, lon1 = origin\n",
    "    lat2, lon2 = destination\n",
    "    radius = 6371  # km\n",
    "\n",
    "    dlat = math.radians(lat2 - lat1)\n",
    "    dlon = math.radians(lon2 - lon1)\n",
    "    a = (math.sin(dlat / 2) * math.sin(dlat / 2) +\n",
    "         math.cos(math.radians(lat1)) * math.cos(math.radians(lat2)) *\n",
    "         math.sin(dlon / 2) * math.sin(dlon / 2))\n",
    "    c = 2 * math.atan2(math.sqrt(a), math.sqrt(1 - a))\n",
    "    d = radius * c\n",
    "\n",
    "    return d"
   ]
  },
  {
   "cell_type": "code",
   "execution_count": 87,
   "metadata": {},
   "outputs": [],
   "source": [
    "def get_city_distance(city1,city2):\n",
    "    return geo_distance(city_info[city1],city_info[city2])"
   ]
  },
  {
   "cell_type": "code",
   "execution_count": 88,
   "metadata": {},
   "outputs": [
    {
     "data": {
      "text/plain": [
       "303.6885955551885"
      ]
     },
     "execution_count": 88,
     "metadata": {},
     "output_type": "execute_result"
    }
   ],
   "source": [
    "get_city_distance('南京','上海')"
   ]
  },
  {
   "cell_type": "markdown",
   "metadata": {},
   "source": [
    "## draw the graph"
   ]
  },
  {
   "cell_type": "code",
   "execution_count": 20,
   "metadata": {},
   "outputs": [],
   "source": [
    "import networkx as nx\n",
    "import matplotlib.pyplot as plt\n",
    "\n",
    "plt.rcParams['font.sans-serif']=['SimHei']\n",
    "plt.rcParams['axes.unicode_minus'] = False"
   ]
  },
  {
   "cell_type": "code",
   "execution_count": 90,
   "metadata": {},
   "outputs": [
    {
     "data": {
      "text/plain": [
       "dict_keys(['兰州', '嘉峪关', '西宁', '成都', '石家庄', '拉萨', '贵阳', '武汉', '郑州', '济南', '南京', '合肥', '杭州', '南昌', '福州', '广州', '长沙', '沈阳', '长春', '哈尔滨', '太原', '西安', '北京', '上海', '重庆', '天津', '呼和浩特', '南宁', '银川', '乌鲁木齐', '香港', '澳门'])"
      ]
     },
     "execution_count": 90,
     "metadata": {},
     "output_type": "execute_result"
    }
   ],
   "source": [
    "city_info.keys()"
   ]
  },
  {
   "cell_type": "code",
   "execution_count": 91,
   "metadata": {},
   "outputs": [],
   "source": [
    "city_graph = nx.Graph()\n",
    "city_graph.add_nodes_from(list(city_info.keys()))"
   ]
  },
  {
   "cell_type": "code",
   "execution_count": 92,
   "metadata": {},
   "outputs": [
    {
     "data": {
      "image/png": "[encoded data removed]",
      "text/plain": [
       "<Figure size 432x288 with 1 Axes>"
      ]
     },
     "metadata": {},
     "output_type": "display_data"
    }
   ],
   "source": [
    "nx.draw(city_graph, city_info,with_labels=True,node_size=10)"
   ]
  },
  {
   "cell_type": "code",
   "execution_count": 93,
   "metadata": {},
   "outputs": [],
   "source": [
    "threshold = 700"
   ]
  },
  {
   "cell_type": "code",
   "execution_count": 94,
   "metadata": {},
   "outputs": [],
   "source": [
    "from collections import defaultdict"
   ]
  },
  {
   "cell_type": "code",
   "execution_count": 95,
   "metadata": {},
   "outputs": [],
   "source": [
    "def build_connection(city_info):\n",
    "    cities_connection = defaultdict(list)\n",
    "    cities = list(city_info.keys())\n",
    "    \n",
    "    for c1 in cities:\n",
    "        for c2 in cities:\n",
    "            if c1 == c2:continue\n",
    "            if get_city_distance(c1,c2) < threshold:\n",
    "                cities_connection[c1].append(c2)\n",
    "    return cities_connection           "
   ]
  },
  {
   "cell_type": "code",
   "execution_count": 96,
   "metadata": {},
   "outputs": [],
   "source": [
    "cities_connection = build_connection(city_info)"
   ]
  },
  {
   "cell_type": "code",
   "execution_count": 97,
   "metadata": {},
   "outputs": [
    {
     "data": {
      "text/plain": [
       "defaultdict(list,\n",
       "            {'兰州': ['嘉峪关', '西宁', '成都', '拉萨', '贵阳', '西安', '重庆', '南宁', '银川'],\n",
       "             '嘉峪关': ['兰州', '西宁', '成都', '拉萨'],\n",
       "             '西宁': ['兰州', '嘉峪关', '成都', '拉萨', '贵阳', '重庆', '银川'],\n",
       "             '成都': ['兰州', '嘉峪关', '西宁', '拉萨', '贵阳', '西安', '重庆', '南宁', '银川'],\n",
       "             '石家庄': ['武汉',\n",
       "              '郑州',\n",
       "              '济南',\n",
       "              '南京',\n",
       "              '合肥',\n",
       "              '南昌',\n",
       "              '广州',\n",
       "              '长沙',\n",
       "              '太原',\n",
       "              '西安',\n",
       "              '北京',\n",
       "              '天津',\n",
       "              '呼和浩特'],\n",
       "             '拉萨': ['兰州', '嘉峪关', '西宁', '成都', '贵阳', '重庆', '南宁', '银川'],\n",
       "             '贵阳': ['兰州', '西宁', '成都', '拉萨', '西安', '重庆', '南宁', '银川'],\n",
       "             '武汉': ['石家庄',\n",
       "              '郑州',\n",
       "              '济南',\n",
       "              '南京',\n",
       "              '合肥',\n",
       "              '杭州',\n",
       "              '南昌',\n",
       "              '福州',\n",
       "              '广州',\n",
       "              '长沙',\n",
       "              '太原',\n",
       "              '西安',\n",
       "              '北京',\n",
       "              '天津',\n",
       "              '呼和浩特',\n",
       "              '香港',\n",
       "              '澳门'],\n",
       "             '郑州': ['石家庄',\n",
       "              '武汉',\n",
       "              '济南',\n",
       "              '南京',\n",
       "              '合肥',\n",
       "              '南昌',\n",
       "              '广州',\n",
       "              '长沙',\n",
       "              '太原',\n",
       "              '西安',\n",
       "              '北京',\n",
       "              '天津',\n",
       "              '呼和浩特',\n",
       "              '香港',\n",
       "              '澳门'],\n",
       "             '济南': ['石家庄',\n",
       "              '武汉',\n",
       "              '郑州',\n",
       "              '南京',\n",
       "              '合肥',\n",
       "              '杭州',\n",
       "              '南昌',\n",
       "              '福州',\n",
       "              '长沙',\n",
       "              '太原',\n",
       "              '北京',\n",
       "              '上海',\n",
       "              '天津',\n",
       "              '呼和浩特'],\n",
       "             '南京': ['石家庄',\n",
       "              '武汉',\n",
       "              '郑州',\n",
       "              '济南',\n",
       "              '合肥',\n",
       "              '杭州',\n",
       "              '南昌',\n",
       "              '福州',\n",
       "              '长沙',\n",
       "              '北京',\n",
       "              '上海',\n",
       "              '天津'],\n",
       "             '合肥': ['石家庄',\n",
       "              '武汉',\n",
       "              '郑州',\n",
       "              '济南',\n",
       "              '南京',\n",
       "              '杭州',\n",
       "              '南昌',\n",
       "              '福州',\n",
       "              '广州',\n",
       "              '长沙',\n",
       "              '太原',\n",
       "              '北京',\n",
       "              '上海',\n",
       "              '天津',\n",
       "              '香港',\n",
       "              '澳门'],\n",
       "             '杭州': ['武汉', '济南', '南京', '合肥', '南昌', '福州', '北京', '上海', '天津'],\n",
       "             '南昌': ['石家庄',\n",
       "              '武汉',\n",
       "              '郑州',\n",
       "              '济南',\n",
       "              '南京',\n",
       "              '合肥',\n",
       "              '杭州',\n",
       "              '福州',\n",
       "              '广州',\n",
       "              '长沙',\n",
       "              '太原',\n",
       "              '北京',\n",
       "              '上海',\n",
       "              '天津',\n",
       "              '香港',\n",
       "              '澳门'],\n",
       "             '福州': ['武汉',\n",
       "              '济南',\n",
       "              '南京',\n",
       "              '合肥',\n",
       "              '杭州',\n",
       "              '南昌',\n",
       "              '广州',\n",
       "              '上海',\n",
       "              '香港',\n",
       "              '澳门'],\n",
       "             '广州': ['石家庄',\n",
       "              '武汉',\n",
       "              '郑州',\n",
       "              '合肥',\n",
       "              '南昌',\n",
       "              '福州',\n",
       "              '长沙',\n",
       "              '太原',\n",
       "              '西安',\n",
       "              '南宁',\n",
       "              '香港',\n",
       "              '澳门'],\n",
       "             '长沙': ['石家庄',\n",
       "              '武汉',\n",
       "              '郑州',\n",
       "              '济南',\n",
       "              '南京',\n",
       "              '合肥',\n",
       "              '南昌',\n",
       "              '广州',\n",
       "              '太原',\n",
       "              '西安',\n",
       "              '北京',\n",
       "              '天津',\n",
       "              '呼和浩特',\n",
       "              '南宁',\n",
       "              '香港',\n",
       "              '澳门'],\n",
       "             '沈阳': ['长春', '哈尔滨', '上海'],\n",
       "             '长春': ['沈阳', '哈尔滨'],\n",
       "             '哈尔滨': ['沈阳', '长春'],\n",
       "             '太原': ['石家庄',\n",
       "              '武汉',\n",
       "              '郑州',\n",
       "              '济南',\n",
       "              '合肥',\n",
       "              '南昌',\n",
       "              '广州',\n",
       "              '长沙',\n",
       "              '西安',\n",
       "              '北京',\n",
       "              '天津',\n",
       "              '呼和浩特',\n",
       "              '银川',\n",
       "              '澳门'],\n",
       "             '西安': ['兰州',\n",
       "              '成都',\n",
       "              '石家庄',\n",
       "              '贵阳',\n",
       "              '武汉',\n",
       "              '郑州',\n",
       "              '广州',\n",
       "              '长沙',\n",
       "              '太原',\n",
       "              '重庆',\n",
       "              '呼和浩特',\n",
       "              '南宁',\n",
       "              '银川'],\n",
       "             '北京': ['石家庄',\n",
       "              '武汉',\n",
       "              '郑州',\n",
       "              '济南',\n",
       "              '南京',\n",
       "              '合肥',\n",
       "              '杭州',\n",
       "              '南昌',\n",
       "              '长沙',\n",
       "              '太原',\n",
       "              '天津',\n",
       "              '呼和浩特'],\n",
       "             '上海': ['济南', '南京', '合肥', '杭州', '南昌', '福州', '沈阳', '天津'],\n",
       "             '重庆': ['兰州', '西宁', '成都', '拉萨', '贵阳', '西安', '呼和浩特', '南宁', '银川'],\n",
       "             '天津': ['石家庄',\n",
       "              '武汉',\n",
       "              '郑州',\n",
       "              '济南',\n",
       "              '南京',\n",
       "              '合肥',\n",
       "              '杭州',\n",
       "              '南昌',\n",
       "              '长沙',\n",
       "              '太原',\n",
       "              '北京',\n",
       "              '上海',\n",
       "              '呼和浩特'],\n",
       "             '呼和浩特': ['石家庄',\n",
       "              '武汉',\n",
       "              '郑州',\n",
       "              '济南',\n",
       "              '长沙',\n",
       "              '太原',\n",
       "              '西安',\n",
       "              '北京',\n",
       "              '重庆',\n",
       "              '天津',\n",
       "              '银川'],\n",
       "             '南宁': ['兰州',\n",
       "              '成都',\n",
       "              '拉萨',\n",
       "              '贵阳',\n",
       "              '广州',\n",
       "              '长沙',\n",
       "              '西安',\n",
       "              '重庆',\n",
       "              '银川',\n",
       "              '香港',\n",
       "              '澳门'],\n",
       "             '银川': ['兰州',\n",
       "              '西宁',\n",
       "              '成都',\n",
       "              '拉萨',\n",
       "              '贵阳',\n",
       "              '太原',\n",
       "              '西安',\n",
       "              '重庆',\n",
       "              '呼和浩特',\n",
       "              '南宁'],\n",
       "             '香港': ['武汉', '郑州', '合肥', '南昌', '福州', '广州', '长沙', '南宁', '澳门'],\n",
       "             '澳门': ['武汉',\n",
       "              '郑州',\n",
       "              '合肥',\n",
       "              '南昌',\n",
       "              '福州',\n",
       "              '广州',\n",
       "              '长沙',\n",
       "              '太原',\n",
       "              '南宁',\n",
       "              '香港']})"
      ]
     },
     "execution_count": 97,
     "metadata": {},
     "output_type": "execute_result"
    }
   ],
   "source": [
    "cities_connection"
   ]
  },
  {
   "cell_type": "code",
   "execution_count": 98,
   "metadata": {},
   "outputs": [],
   "source": [
    "cities_connection_graph = nx.Graph(cities_connection)"
   ]
  },
  {
   "cell_type": "code",
   "execution_count": 99,
   "metadata": {},
   "outputs": [
    {
     "name": "stderr",
     "output_type": "stream",
     "text": [
      "C:\\Python\\lib\\site-packages\\networkx\\drawing\\nx_pylab.py:579: MatplotlibDeprecationWarning: \n",
      "The iterable function was deprecated in Matplotlib 3.1 and will be removed in 3.3. Use np.iterable instead.\n",
      "  if not cb.iterable(width):\n"
     ]
    },
    {
     "data": {
      "image/png": "[encoded data removed]",
      "text/plain": [
       "<Figure size 432x288 with 1 Axes>"
      ]
     },
     "metadata": {},
     "output_type": "display_data"
    }
   ],
   "source": [
    "nx.draw(cities_connection_graph,city_info,with_labels=True,node_size=10)"
   ]
  },
  {
   "cell_type": "markdown",
   "metadata": {},
   "source": [
    "# BFS"
   ]
  },
  {
   "cell_type": "code",
   "execution_count": 136,
   "metadata": {},
   "outputs": [],
   "source": [
    "def bfs(graph,start,destination):\n",
    "    pathes = [[start]]\n",
    "    visited = set()\n",
    "    \n",
    "    while pathes:\n",
    "        path = pathes.pop(0)\n",
    "        frontier = path[-1]\n",
    "        \n",
    "        if frontier in visited: continue\n",
    "            \n",
    "        successsors = graph[frontier]\n",
    "        for city in successsors:\n",
    "            if city in path: continue\n",
    "\n",
    "            new_path = path+[city]\n",
    "            pathes.append(new_path)  #bfs 后置\n",
    "            #pathes = [new_path] + pathes #dfs\n",
    "            \n",
    "            if city == destination:\n",
    "                return new_path\n",
    "            \n",
    "        visited.add(frontier)"
   ]
  },
  {
   "cell_type": "code",
   "execution_count": 137,
   "metadata": {},
   "outputs": [
    {
     "data": {
      "text/plain": [
       "['上海', '济南', '长沙', '南宁', '拉萨']"
      ]
     },
     "execution_count": 137,
     "metadata": {},
     "output_type": "execute_result"
    }
   ],
   "source": [
    "bfs(cities_connection,\"上海\",\"拉萨\")"
   ]
  },
  {
   "cell_type": "code",
   "execution_count": 138,
   "metadata": {},
   "outputs": [
    {
     "data": {
      "text/plain": [
       "['拉萨', '重庆', '呼和浩特', '北京']"
      ]
     },
     "execution_count": 138,
     "metadata": {},
     "output_type": "execute_result"
    }
   ],
   "source": [
    "bfs(cities_connection,\"拉萨\",\"北京\")"
   ]
  },
  {
   "cell_type": "code",
   "execution_count": 139,
   "metadata": {},
   "outputs": [],
   "source": [
    "def dfs(graph, start, destination):\n",
    "    pathes = [[start]]\n",
    "    visited = set()\n",
    "    \n",
    "    while pathes:\n",
    "        path =pathes.pop(0)\n",
    "        frontier = path[-1]\n",
    "        if frontier in visited:continue\n",
    "        \n",
    "        successors = graph[frontier]\n",
    "        for city in successors:\n",
    "            if city in path:continue\n",
    "                \n",
    "            new_path = path + [city]\n",
    "            pathes = [new_path] + path #dfs 前置\n",
    "        \n",
    "            if city == destination:\n",
    "                return new_path\n",
    "        \n",
    "        visited.add(frontier)   "
   ]
  },
  {
   "cell_type": "code",
   "execution_count": 140,
   "metadata": {},
   "outputs": [
    {
     "data": {
      "text/plain": [
       "['北京', '呼和浩特', '西安']"
      ]
     },
     "execution_count": 140,
     "metadata": {},
     "output_type": "execute_result"
    }
   ],
   "source": [
    "dfs(cities_connection,\"北京\",\"西安\")"
   ]
  },
  {
   "cell_type": "code",
   "execution_count": 141,
   "metadata": {},
   "outputs": [
    {
     "data": {
      "text/plain": [
       "['拉萨', '银川', '西安']"
      ]
     },
     "execution_count": 141,
     "metadata": {},
     "output_type": "execute_result"
    }
   ],
   "source": [
    "dfs(cities_connection,\"拉萨\",\"西安\")"
   ]
  },
  {
   "cell_type": "code",
   "execution_count": 142,
   "metadata": {},
   "outputs": [
    {
     "data": {
      "text/plain": [
       "['拉萨', '银川', '南宁', '澳门', '香港', '长沙', '北京']"
      ]
     },
     "execution_count": 142,
     "metadata": {},
     "output_type": "execute_result"
    }
   ],
   "source": [
    "dfs(cities_connection,\"拉萨\",\"北京\")"
   ]
  },
  {
   "cell_type": "code",
   "execution_count": 144,
   "metadata": {},
   "outputs": [
    {
     "data": {
      "text/plain": [
       "['拉萨', '重庆', '呼和浩特', '北京']"
      ]
     },
     "execution_count": 144,
     "metadata": {},
     "output_type": "execute_result"
    }
   ],
   "source": [
    "bfs(cities_connection,\"拉萨\",\"北京\")"
   ]
  },
  {
   "cell_type": "markdown",
   "metadata": {},
   "source": [
    "## 里程数"
   ]
  },
  {
   "cell_type": "code",
   "execution_count": 186,
   "metadata": {},
   "outputs": [],
   "source": [
    "def bfs_2(graph,start,destination,search_strategy):\n",
    "    pathes = [[start]]\n",
    "    while pathes:\n",
    "        path = pathes.pop(0)\n",
    "        frontier = path[-1]\n",
    "        \n",
    "        successor = graph[frontier]\n",
    "        for city in successor:\n",
    "            if city in path:continue\n",
    "            new_path = path + [city]\n",
    "            pathes.append(new_path)#bfs\n",
    "            \n",
    "        pathes = search_strategy(pathes)\n",
    "        if pathes and pathes[0][-1] == destination: # 非空+第一条路径的最后一个点\n",
    "            return pathes[0]"
   ]
  },
  {
   "cell_type": "code",
   "execution_count": 187,
   "metadata": {},
   "outputs": [],
   "source": [
    "def get_distance_of_path(path):\n",
    "    distance = 0\n",
    "    for i, _ in enumerate(path[:-1]):\n",
    "        distance += get_city_distance(path[i],path[i+1])\n",
    "    return distance"
   ]
  },
  {
   "cell_type": "code",
   "execution_count": 188,
   "metadata": {},
   "outputs": [
    {
     "data": {
      "text/plain": [
       "752.66259009181"
      ]
     },
     "execution_count": 188,
     "metadata": {},
     "output_type": "execute_result"
    }
   ],
   "source": [
    "get_distance_of_path([\"北京\",\"济南\",\"上海\"])"
   ]
  },
  {
   "cell_type": "code",
   "execution_count": 189,
   "metadata": {},
   "outputs": [
    {
     "data": {
      "text/plain": [
       "2712.9416789339675"
      ]
     },
     "execution_count": 189,
     "metadata": {},
     "output_type": "execute_result"
    }
   ],
   "source": [
    "get_distance_of_path(['拉萨', '银川', '南宁', '澳门', '香港', '长沙', '北京'])"
   ]
  },
  {
   "cell_type": "code",
   "execution_count": 190,
   "metadata": {},
   "outputs": [],
   "source": [
    "def sort_by_destance(pathes):\n",
    "    def get_distance_of_path(path):\n",
    "        distance = 0\n",
    "        for i, _ in enumerate(path[:-1]):\n",
    "            distance += get_city_distance(path[i],path[i+1])\n",
    "        return distance\n",
    "    return sorted(pathes, key=get_distance_of_path)"
   ]
  },
  {
   "cell_type": "code",
   "execution_count": 191,
   "metadata": {},
   "outputs": [
    {
     "data": {
      "text/plain": [
       "['北京', '天津', '上海']"
      ]
     },
     "execution_count": 191,
     "metadata": {},
     "output_type": "execute_result"
    }
   ],
   "source": [
    "bfs_2(cities_connection,\"北京\",\"上海\",search_strategy=sort_by_destance)"
   ]
  },
  {
   "cell_type": "code",
   "execution_count": 192,
   "metadata": {},
   "outputs": [
    {
     "data": {
      "text/plain": [
       "['北京', '济南', '上海']"
      ]
     },
     "execution_count": 192,
     "metadata": {},
     "output_type": "execute_result"
    }
   ],
   "source": [
    "bfs_2(cities_connection,\"北京\",\"上海\",search_strategy=lambda x:x)"
   ]
  },
  {
   "cell_type": "code",
   "execution_count": 193,
   "metadata": {},
   "outputs": [
    {
     "data": {
      "text/plain": [
       "['北京', '济南', '上海']"
      ]
     },
     "execution_count": 193,
     "metadata": {},
     "output_type": "execute_result"
    }
   ],
   "source": [
    "bfs(cities_connection,\"北京\",\"上海\")"
   ]
  },
  {
   "cell_type": "code",
   "execution_count": 194,
   "metadata": {},
   "outputs": [
    {
     "data": {
      "text/plain": [
       "752.66259009181"
      ]
     },
     "execution_count": 194,
     "metadata": {},
     "output_type": "execute_result"
    }
   ],
   "source": [
    "get_distance_of_path(bfs_2(cities_connection,\"北京\",\"上海\",search_strategy=lambda x:x))"
   ]
  },
  {
   "cell_type": "code",
   "execution_count": 195,
   "metadata": {},
   "outputs": [
    {
     "data": {
      "text/plain": [
       "732.5085345714293"
      ]
     },
     "execution_count": 195,
     "metadata": {},
     "output_type": "execute_result"
    }
   ],
   "source": [
    "get_distance_of_path(bfs_2(cities_connection,\"北京\",\"上海\",search_strategy=sort_by_destance))"
   ]
  },
  {
   "cell_type": "markdown",
   "metadata": {},
   "source": [
    "# machine learning"
   ]
  },
  {
   "cell_type": "code",
   "execution_count": 36,
   "metadata": {},
   "outputs": [],
   "source": [
    "from sklearn.datasets import load_boston\n",
    "import random\n",
    "import matplotlib.pyplot as plt"
   ]
  },
  {
   "cell_type": "code",
   "execution_count": 37,
   "metadata": {},
   "outputs": [],
   "source": [
    "dataset = load_boston()"
   ]
  },
  {
   "cell_type": "code",
   "execution_count": 42,
   "metadata": {},
   "outputs": [],
   "source": [
    "x,y=dataset['data'],dataset['target']"
   ]
  },
  {
   "cell_type": "code",
   "execution_count": 43,
   "metadata": {},
   "outputs": [
    {
     "data": {
      "text/plain": [
       "array([[6.3200e-03, 1.8000e+01, 2.3100e+00, ..., 1.5300e+01, 3.9690e+02,\n",
       "        4.9800e+00],\n",
       "       [2.7310e-02, 0.0000e+00, 7.0700e+00, ..., 1.7800e+01, 3.9690e+02,\n",
       "        9.1400e+00],\n",
       "       [2.7290e-02, 0.0000e+00, 7.0700e+00, ..., 1.7800e+01, 3.9283e+02,\n",
       "        4.0300e+00],\n",
       "       ...,\n",
       "       [6.0760e-02, 0.0000e+00, 1.1930e+01, ..., 2.1000e+01, 3.9690e+02,\n",
       "        5.6400e+00],\n",
       "       [1.0959e-01, 0.0000e+00, 1.1930e+01, ..., 2.1000e+01, 3.9345e+02,\n",
       "        6.4800e+00],\n",
       "       [4.7410e-02, 0.0000e+00, 1.1930e+01, ..., 2.1000e+01, 3.9690e+02,\n",
       "        7.8800e+00]])"
      ]
     },
     "execution_count": 43,
     "metadata": {},
     "output_type": "execute_result"
    }
   ],
   "source": [
    "x"
   ]
  },
  {
   "cell_type": "code",
   "execution_count": 44,
   "metadata": {},
   "outputs": [
    {
     "data": {
      "text/plain": [
       "array([24. , 21.6, 34.7, 33.4, 36.2, 28.7, 22.9, 27.1, 16.5, 18.9, 15. ,\n",
       "       18.9, 21.7, 20.4, 18.2, 19.9, 23.1, 17.5, 20.2, 18.2, 13.6, 19.6,\n",
       "       15.2, 14.5, 15.6, 13.9, 16.6, 14.8, 18.4, 21. , 12.7, 14.5, 13.2,\n",
       "       13.1, 13.5, 18.9, 20. , 21. , 24.7, 30.8, 34.9, 26.6, 25.3, 24.7,\n",
       "       21.2, 19.3, 20. , 16.6, 14.4, 19.4, 19.7, 20.5, 25. , 23.4, 18.9,\n",
       "       35.4, 24.7, 31.6, 23.3, 19.6, 18.7, 16. , 22.2, 25. , 33. , 23.5,\n",
       "       19.4, 22. , 17.4, 20.9, 24.2, 21.7, 22.8, 23.4, 24.1, 21.4, 20. ,\n",
       "       20.8, 21.2, 20.3, 28. , 23.9, 24.8, 22.9, 23.9, 26.6, 22.5, 22.2,\n",
       "       23.6, 28.7, 22.6, 22. , 22.9, 25. , 20.6, 28.4, 21.4, 38.7, 43.8,\n",
       "       33.2, 27.5, 26.5, 18.6, 19.3, 20.1, 19.5, 19.5, 20.4, 19.8, 19.4,\n",
       "       21.7, 22.8, 18.8, 18.7, 18.5, 18.3, 21.2, 19.2, 20.4, 19.3, 22. ,\n",
       "       20.3, 20.5, 17.3, 18.8, 21.4, 15.7, 16.2, 18. , 14.3, 19.2, 19.6,\n",
       "       23. , 18.4, 15.6, 18.1, 17.4, 17.1, 13.3, 17.8, 14. , 14.4, 13.4,\n",
       "       15.6, 11.8, 13.8, 15.6, 14.6, 17.8, 15.4, 21.5, 19.6, 15.3, 19.4,\n",
       "       17. , 15.6, 13.1, 41.3, 24.3, 23.3, 27. , 50. , 50. , 50. , 22.7,\n",
       "       25. , 50. , 23.8, 23.8, 22.3, 17.4, 19.1, 23.1, 23.6, 22.6, 29.4,\n",
       "       23.2, 24.6, 29.9, 37.2, 39.8, 36.2, 37.9, 32.5, 26.4, 29.6, 50. ,\n",
       "       32. , 29.8, 34.9, 37. , 30.5, 36.4, 31.1, 29.1, 50. , 33.3, 30.3,\n",
       "       34.6, 34.9, 32.9, 24.1, 42.3, 48.5, 50. , 22.6, 24.4, 22.5, 24.4,\n",
       "       20. , 21.7, 19.3, 22.4, 28.1, 23.7, 25. , 23.3, 28.7, 21.5, 23. ,\n",
       "       26.7, 21.7, 27.5, 30.1, 44.8, 50. , 37.6, 31.6, 46.7, 31.5, 24.3,\n",
       "       31.7, 41.7, 48.3, 29. , 24. , 25.1, 31.5, 23.7, 23.3, 22. , 20.1,\n",
       "       22.2, 23.7, 17.6, 18.5, 24.3, 20.5, 24.5, 26.2, 24.4, 24.8, 29.6,\n",
       "       42.8, 21.9, 20.9, 44. , 50. , 36. , 30.1, 33.8, 43.1, 48.8, 31. ,\n",
       "       36.5, 22.8, 30.7, 50. , 43.5, 20.7, 21.1, 25.2, 24.4, 35.2, 32.4,\n",
       "       32. , 33.2, 33.1, 29.1, 35.1, 45.4, 35.4, 46. , 50. , 32.2, 22. ,\n",
       "       20.1, 23.2, 22.3, 24.8, 28.5, 37.3, 27.9, 23.9, 21.7, 28.6, 27.1,\n",
       "       20.3, 22.5, 29. , 24.8, 22. , 26.4, 33.1, 36.1, 28.4, 33.4, 28.2,\n",
       "       22.8, 20.3, 16.1, 22.1, 19.4, 21.6, 23.8, 16.2, 17.8, 19.8, 23.1,\n",
       "       21. , 23.8, 23.1, 20.4, 18.5, 25. , 24.6, 23. , 22.2, 19.3, 22.6,\n",
       "       19.8, 17.1, 19.4, 22.2, 20.7, 21.1, 19.5, 18.5, 20.6, 19. , 18.7,\n",
       "       32.7, 16.5, 23.9, 31.2, 17.5, 17.2, 23.1, 24.5, 26.6, 22.9, 24.1,\n",
       "       18.6, 30.1, 18.2, 20.6, 17.8, 21.7, 22.7, 22.6, 25. , 19.9, 20.8,\n",
       "       16.8, 21.9, 27.5, 21.9, 23.1, 50. , 50. , 50. , 50. , 50. , 13.8,\n",
       "       13.8, 15. , 13.9, 13.3, 13.1, 10.2, 10.4, 10.9, 11.3, 12.3,  8.8,\n",
       "        7.2, 10.5,  7.4, 10.2, 11.5, 15.1, 23.2,  9.7, 13.8, 12.7, 13.1,\n",
       "       12.5,  8.5,  5. ,  6.3,  5.6,  7.2, 12.1,  8.3,  8.5,  5. , 11.9,\n",
       "       27.9, 17.2, 27.5, 15. , 17.2, 17.9, 16.3,  7. ,  7.2,  7.5, 10.4,\n",
       "        8.8,  8.4, 16.7, 14.2, 20.8, 13.4, 11.7,  8.3, 10.2, 10.9, 11. ,\n",
       "        9.5, 14.5, 14.1, 16.1, 14.3, 11.7, 13.4,  9.6,  8.7,  8.4, 12.8,\n",
       "       10.5, 17.1, 18.4, 15.4, 10.8, 11.8, 14.9, 12.6, 14.1, 13. , 13.4,\n",
       "       15.2, 16.1, 17.8, 14.9, 14.1, 12.7, 13.5, 14.9, 20. , 16.4, 17.7,\n",
       "       19.5, 20.2, 21.4, 19.9, 19. , 19.1, 19.1, 20.1, 19.9, 19.6, 23.2,\n",
       "       29.8, 13.8, 13.3, 16.7, 12. , 14.6, 21.4, 23. , 23.7, 25. , 21.8,\n",
       "       20.6, 21.2, 19.1, 20.6, 15.2,  7. ,  8.1, 13.6, 20.1, 21.8, 24.5,\n",
       "       23.1, 19.7, 18.3, 21.2, 17.5, 16.8, 22.4, 20.6, 23.9, 22. , 11.9])"
      ]
     },
     "execution_count": 44,
     "metadata": {},
     "output_type": "execute_result"
    }
   ],
   "source": [
    "y"
   ]
  },
  {
   "cell_type": "code",
   "execution_count": 46,
   "metadata": {},
   "outputs": [
    {
     "data": {
      "text/plain": [
       "(506, 13)"
      ]
     },
     "execution_count": 46,
     "metadata": {},
     "output_type": "execute_result"
    }
   ],
   "source": [
    "x.shape"
   ]
  },
  {
   "cell_type": "code",
   "execution_count": 47,
   "metadata": {},
   "outputs": [
    {
     "data": {
      "text/plain": [
       "(506,)"
      ]
     },
     "execution_count": 47,
     "metadata": {},
     "output_type": "execute_result"
    }
   ],
   "source": [
    "y.shape"
   ]
  },
  {
   "cell_type": "code",
   "execution_count": 48,
   "metadata": {},
   "outputs": [
    {
     "data": {
      "text/plain": [
       "array(['CRIM', 'ZN', 'INDUS', 'CHAS', 'NOX', 'RM', 'AGE', 'DIS', 'RAD',\n",
       "       'TAX', 'PTRATIO', 'B', 'LSTAT'], dtype='<U7')"
      ]
     },
     "execution_count": 48,
     "metadata": {},
     "output_type": "execute_result"
    }
   ],
   "source": [
    "dataset.feature_names"
   ]
  },
  {
   "cell_type": "code",
   "execution_count": 49,
   "metadata": {},
   "outputs": [
    {
     "data": {
      "text/plain": [
       "\".. _boston_dataset:\\n\\nBoston house prices dataset\\n---------------------------\\n\\n**Data Set Characteristics:**  \\n\\n    :Number of Instances: 506 \\n\\n    :Number of Attributes: 13 numeric/categorical predictive. Median Value (attribute 14) is usually the target.\\n\\n    :Attribute Information (in order):\\n        - CRIM     per capita crime rate by town\\n        - ZN       proportion of residential land zoned for lots over 25,000 sq.ft.\\n        - INDUS    proportion of non-retail business acres per town\\n        - CHAS     Charles River dummy variable (= 1 if tract bounds river; 0 otherwise)\\n        - NOX      nitric oxides concentration (parts per 10 million)\\n        - RM       average number of rooms per dwelling\\n        - AGE      proportion of owner-occupied units built prior to 1940\\n        - DIS      weighted distances to five Boston employment centres\\n        - RAD      index of accessibility to radial highways\\n        - TAX      full-value property-tax rate per $10,000\\n        - PTRATIO  pupil-teacher ratio by town\\n        - B        1000(Bk - 0.63)^2 where Bk is the proportion of blacks by town\\n        - LSTAT    % lower status of the population\\n        - MEDV     Median value of owner-occupied homes in $1000's\\n\\n    :Missing Attribute Values: None\\n\\n    :Creator: Harrison, D. and Rubinfeld, D.L.\\n\\nThis is a copy of UCI ML housing dataset.\\nhttps://archive.ics.uci.edu/ml/machine-learning-databases/housing/\\n\\n\\nThis dataset was taken from the StatLib library which is maintained at Carnegie Mellon University.\\n\\nThe Boston house-price data of Harrison, D. and Rubinfeld, D.L. 'Hedonic\\nprices and the demand for clean air', J. Environ. Economics & Management,\\nvol.5, 81-102, 1978.   Used in Belsley, Kuh & Welsch, 'Regression diagnostics\\n...', Wiley, 1980.   N.B. Various transformations are used in the table on\\npages 244-261 of the latter.\\n\\nThe Boston house-price data has been used in many machine learning papers that address regression\\nproblems.   \\n     \\n.. topic:: References\\n\\n   - Belsley, Kuh & Welsch, 'Regression diagnostics: Identifying Influential Data and Sources of Collinearity', Wiley, 1980. 244-261.\\n   - Quinlan,R. (1993). Combining Instance-Based and Model-Based Learning. In Proceedings on the Tenth International Conference of Machine Learning, 236-243, University of Massachusetts, Amherst. Morgan Kaufmann.\\n\""
      ]
     },
     "execution_count": 49,
     "metadata": {},
     "output_type": "execute_result"
    }
   ],
   "source": [
    "dataset['DESCR']"
   ]
  },
  {
   "cell_type": "code",
   "execution_count": 50,
   "metadata": {},
   "outputs": [],
   "source": [
    "X_rm = x[:,5]"
   ]
  },
  {
   "cell_type": "code",
   "execution_count": 51,
   "metadata": {},
   "outputs": [
    {
     "data": {
      "text/plain": [
       "(506,)"
      ]
     },
     "execution_count": 51,
     "metadata": {},
     "output_type": "execute_result"
    }
   ],
   "source": [
    "X_rm.shape"
   ]
  },
  {
   "cell_type": "code",
   "execution_count": 71,
   "metadata": {},
   "outputs": [
    {
     "data": {
      "text/plain": [
       "<matplotlib.collections.PathCollection at 0x20924c89198>"
      ]
     },
     "execution_count": 71,
     "metadata": {},
     "output_type": "execute_result"
    },
    {
     "data": {
      "image/png": "[encoded data removed]",
      "text/plain": [
       "<Figure size 432x288 with 1 Axes>"
      ]
     },
     "metadata": {
      "needs_background": "light"
     },
     "output_type": "display_data"
    }
   ],
   "source": [
    "#plt x_rm in respect to y\n",
    "plt.scatter(X_rm,y)"
   ]
  },
  {
   "cell_type": "markdown",
   "metadata": {},
   "source": [
    "## Gradient descent"
   ]
  },
  {
   "cell_type": "markdown",
   "metadata": {},
   "source": [
    "$$ y=k*rm+b $$"
   ]
  },
  {
   "cell_type": "code",
   "execution_count": 72,
   "metadata": {},
   "outputs": [],
   "source": [
    "# define target function\n",
    "def price(rm, k, b):\n",
    "    return rm * k + b"
   ]
  },
  {
   "cell_type": "markdown",
   "metadata": {},
   "source": [
    "## define mean square loss"
   ]
  },
  {
   "cell_type": "markdown",
   "metadata": {},
   "source": [
    "$$ loss = \\frac{1}{n}\\sum{(y_i - \\hat{y_i})}^2 $$"
   ]
  },
  {
   "cell_type": "markdown",
   "metadata": {},
   "source": [
    "$$ loss = \\frac{1}{n}\\sum{(y_i - (kx_i + b_i))}^2 $$"
   ]
  },
  {
   "cell_type": "code",
   "execution_count": 73,
   "metadata": {},
   "outputs": [],
   "source": [
    "def loss(y,y_hat):\n",
    "    return sum((y_i-y_hat_i)**2 for y_i, y_hat_i in zip(list(y),list(y_hat)))/len(list(y))"
   ]
  },
  {
   "cell_type": "markdown",
   "metadata": {},
   "source": [
    "## define partial derivation"
   ]
  },
  {
   "cell_type": "markdown",
   "metadata": {},
   "source": [
    "$$ \\frac{\\partial{loss}}{\\partial{k}} = -\\frac{2}{n}\\sum{(y_i-\\hat{y_i})x_i}$$"
   ]
  },
  {
   "cell_type": "markdown",
   "metadata": {},
   "source": [
    "$$ \\frac{\\partial{loss}}{\\partial{b}} = -\\frac{2}{n}\\sum{(y_i-\\hat{y_i})}$$"
   ]
  },
  {
   "cell_type": "code",
   "execution_count": 74,
   "metadata": {},
   "outputs": [],
   "source": [
    "# define partial derivation\n",
    "def partial_derivative_k(x,y,y_hat):\n",
    "    n =len(y)\n",
    "    gradient=0\n",
    "    for x_i, y_i, y_hat_i in zip(list(x),list(y),list(y_hat)):\n",
    "        gradient += (y_i - y_hat_i) * x_i\n",
    "    return -2/n * gradient"
   ]
  },
  {
   "cell_type": "code",
   "execution_count": 75,
   "metadata": {},
   "outputs": [],
   "source": [
    "def partial_derivative_b(y,y_hat):\n",
    "    n =len(y)\n",
    "    gradient=0\n",
    "    for y_i, y_hat_i in zip(list(y),list(y_hat)):\n",
    "        gradient += (y_i - y_hat_i)\n",
    "    return -2/n * gradient"
   ]
  },
  {
   "cell_type": "code",
   "execution_count": 97,
   "metadata": {},
   "outputs": [
    {
     "name": "stdout",
     "output_type": "stream",
     "text": [
      "Iteration 0, the loss is 2366.9022959223807,parameters k is24.078935922766107 & b is -81.75422630782327\n",
      "Iteration 1, the loss is 2006.2030001466153,parameters k is23.47291602751752 & b is -81.84830685998152\n",
      "Iteration 2, the loss is 1702.2027647594432,parameters k is22.916547308624352 & b is -81.93458202408925\n",
      "Iteration 3, the loss is 1445.9889143774153,parameters k is22.405760624050327 & b is -82.01369148990317\n",
      "Iteration 4, the loss is 1230.0497806538724,parameters k is21.936820316675107 & b is -82.0862225216605\n",
      "Iteration 5, the loss is 1048.0544742741458,parameters k is21.50629688367074 & b is -82.15271425459163\n",
      "Iteration 6, the loss is 894.6672751737963,parameters k is21.111041885748495 & b is -82.21366163931366\n",
      "Iteration 7, the loss is 765.391199249814,parameters k is20.74816491270837 & b is -82.2695190629628\n",
      "Iteration 8, the loss is 656.4361552345677,parameters k is20.415012436767825 & b is -82.32070367355836\n",
      "Iteration 9, the loss is 564.6078263397558,parameters k is20.109148398957554 & b is -82.36759843191967\n",
      "Iteration 10, the loss is 487.2140188888933,parameters k is19.828336386551452 & b is -82.41055491346451\n",
      "Iteration 11, the loss is 421.98573225616195,parameters k is19.57052327113821 & b is -82.44989588038716\n",
      "Iteration 12, the loss is 367.0106360305204,parameters k is19.33382418762826 & b is -82.4859176430347\n",
      "Iteration 13, the loss is 320.67700408047864,parameters k is19.116508744300205 & b is -82.51889222775758\n",
      "Iteration 14, the loss is 281.62646177165084,parameters k is18.91698836299743 & b is -82.54906936709492\n",
      "Iteration 15, the loss is 248.71416097426112,parameters k is18.733804656853827 & b is -82.57667832685496\n",
      "Iteration 16, the loss is 220.97521526664775,parameters k is18.565618760518422 & b is -82.60192958345782\n",
      "Iteration 17, the loss is 197.59641127797477,parameters k is18.411201534817152 & b is -82.62501636381232\n",
      "Iteration 18, the loss is 177.89236679987425,parameters k is18.269424574187735 & b is -82.64611605899283\n",
      "Iteration 19, the loss is 161.2854366676253,parameters k is18.139251951096593 & b is -82.66539152205877\n",
      "Iteration 20, the loss is 147.28877728906625,parameters k is18.019732637038825 & b is -82.68299225951183\n",
      "Iteration 21, the loss is 135.4920733050406,parameters k is17.909993544672105 & b is -82.69905552510782\n",
      "Iteration 22, the loss is 125.54950791386551,parameters k is17.809233140179725 & b is -82.71370732402558\n",
      "Iteration 23, the loss is 117.16962417234632,parameters k is17.71671557912988 & b is -82.72706333473958\n",
      "Iteration 24, the loss is 110.1067800257216,parameters k is17.63176532292828 & b is -82.73922975534094\n",
      "Iteration 25, the loss is 104.15394654407099,parameters k is17.553762196477248 & b is -82.75030408049842\n",
      "Iteration 26, the loss is 99.13663822300525,parameters k is17.482136850882362 & b is -82.76037581474395\n",
      "Iteration 27, the loss is 94.90779739646098,parameters k is17.416366598011226 & b is -82.76952712730113\n",
      "Iteration 28, the loss is 91.34348278218748,parameters k is17.355971586429284 & b is -82.77783345324748\n",
      "Iteration 29, the loss is 88.33923575618294,parameters k is17.30051129073529 & b is -82.78536404540871\n",
      "Iteration 30, the loss is 85.80701782207025,parameters k is17.24958128861191 & b is -82.79218248102272\n",
      "Iteration 31, the loss is 83.67262948776893,parameters k is17.202810302011844 & b is -82.79834712688012\n",
      "Iteration 32, the loss is 81.87353487577651,parameters k is17.159857480832375 & b is -82.80391156634437\n",
      "Iteration 33, the loss is 80.35702828871652,parameters k is17.120409909205275 & b is -82.80892499137565\n",
      "Iteration 34, the loss is 79.07868897730312,parameters k is17.084180316157738 & b is -82.81343256242657\n",
      "Iteration 35, the loss is 78.00107880741885,parameters k is17.050904973895182 & b is -82.81747573884279\n",
      "Iteration 36, the loss is 77.0926446443523,parameters k is17.020341768329452 & b is -82.8210925821857\n",
      "Iteration 37, the loss is 76.32679327416334,parameters k is16.99226842773611 & b is -82.82431803469655\n",
      "Iteration 38, the loss is 75.68111174060651,parameters k is16.96648089658142 & b is -82.82718417493906\n",
      "Iteration 39, the loss is 75.13671023935912,parameters k is16.942791842621677 & b is -82.82972045249097\n",
      "Iteration 40, the loss is 74.67766830444364,parameters k is16.921029286352642 & b is -82.83195390340154\n",
      "Iteration 41, the loss is 74.29056805007296,parameters k is16.90103534278188 & b is -82.83390934799131\n",
      "Iteration 42, the loss is 73.96410078344563,parameters k is16.882665066318665 & b is -82.8356095724413\n",
      "Iteration 43, the loss is 73.68873545511738,parameters k is16.865785390330455 & b is -82.83707549550006\n",
      "Iteration 44, the loss is 73.45643922653524,parameters k is16.850274153607604 & b is -82.83832632152837\n",
      "Iteration 45, the loss is 73.26044196230241,parameters k is16.83601920661377 & b is -82.83937968100123\n",
      "Iteration 46, the loss is 73.09503774252624,parameters k is16.82291759098322 & b is -82.840251759495\n",
      "Iteration 47, the loss is 72.9554175759659,parameters k is16.810874786262087 & b is -82.84095741610355\n",
      "Iteration 48, the loss is 72.83752840944327,parameters k is16.799804018382677 & b is -82.84151029214954\n",
      "Iteration 49, the loss is 72.7379542999381,parameters k is16.789625624811464 & b is -82.84192291098641\n",
      "Iteration 50, the loss is 72.65381626555528,parameters k is16.78026647172614 & b is -82.84220676962113\n",
      "Iteration 51, the loss is 72.58268787918473,parameters k is16.77165941895769 & b is -82.84237242282794\n",
      "Iteration 52, the loss is 72.52252413021603,parameters k is16.76374282878291 & b is -82.84242956036873\n",
      "Iteration 53, the loss is 72.47160146866999,parameters k is16.75646011497367 & b is -82.84238707788475\n",
      "Iteration 54, the loss is 72.42846727395049,parameters k is16.749759328803627 & b is -82.84225314197846\n",
      "Iteration 55, the loss is 72.39189726673736,parameters k is16.74359277898362 & b is -82.84203524996161\n",
      "Iteration 56, the loss is 72.36085961541804,parameters k is16.7379166827451 & b is -82.8417402847067\n",
      "Iteration 57, the loss is 72.334484684721,parameters k is16.73269084551889 & b is -82.84137456500308\n",
      "Iteration 58, the loss is 72.31203953964548,parameters k is16.727878366865706 & b is -82.8409438917862\n",
      "Iteration 59, the loss is 72.29290645718267,parameters k is16.72344537050708 & b is -82.8404535905781\n",
      "Iteration 60, the loss is 72.27656481583833,parameters k is16.719360756481446 & b is -82.83990855044969\n",
      "Iteration 61, the loss is 72.26257583198866,parameters k is16.715595973612213 & b is -82.83931325979002\n",
      "Iteration 62, the loss is 72.25056969556867,parameters k is16.71212481062308 & b is -82.8386718391439\n",
      "Iteration 63, the loss is 72.24023472793588,parameters k is16.708923204372468 & b is -82.83798807135851\n",
      "Iteration 64, the loss is 72.2313082440383,parameters k is16.705969063803966 & b is -82.8372654292592\n",
      "Iteration 65, the loss is 72.2235688509821,parameters k is16.7032421083249 & b is -82.8365071010573\n",
      "Iteration 66, the loss is 72.2168299572078,parameters k is16.70072371943048 & b is -82.83571601367544\n",
      "Iteration 67, the loss is 72.21093430197686,parameters k is16.698396804488066 & b is -82.83489485416145\n",
      "Iteration 68, the loss is 72.20574934478194,parameters k is16.696245671684906 & b is -82.83404608934717\n",
      "Iteration 69, the loss is 72.20116337950837,parameters k is16.69425591522451 & b is -82.83317198389614\n",
      "Iteration 70, the loss is 72.19708225942082,parameters k is16.692414309931696 & b is -82.83227461687227\n",
      "Iteration 71, the loss is 72.19342663695802,parameters k is16.690708714495244 & b is -82.83135589695054\n",
      "Iteration 72, the loss is 72.1901296374114,parameters k is16.68912798264025 & b is -82.8304175763812\n",
      "Iteration 73, the loss is 72.1871348982846,parameters k is16.687661881580333 & b is -82.82946126380943\n",
      "Iteration 74, the loss is 72.18439491685028,parameters k is16.686301017153028 & b is -82.82848843604455\n",
      "Iteration 75, the loss is 72.18186965746048,parameters k is16.68503676509071 & b is -82.82750044886444\n",
      "Iteration 76, the loss is 72.17952537777614,parameters k is16.68386120792417 & b is -82.82649854693473\n",
      "Iteration 77, the loss is 72.17733363950498,parameters k is16.682767077057225 & b is -82.82548387291489\n",
      "Iteration 78, the loss is 72.17527047464516,parameters k is16.681747699588588 & b is -82.82445747581815\n",
      "Iteration 79, the loss is 72.17331568278759,parameters k is16.680796949491935 & b is -82.82342031868622\n",
      "Iteration 80, the loss is 72.1714522388789,parameters k is16.679909202796985 & b is -82.82237328563504\n",
      "Iteration 81, the loss is 72.16966579407766,parameters k is16.67907929644369 & b is -82.82131718832315\n",
      "Iteration 82, the loss is 72.16794425507524,parameters k is16.678302490508525 & b is -82.82025277188987\n",
      "Iteration 83, the loss is 72.16627742954101,parameters k is16.67757443352651 & b is -82.81918072040688\n",
      "Iteration 84, the loss is 72.16465672730372,parameters k is16.67689113065522 & b is -82.81810166188296\n",
      "Iteration 85, the loss is 72.16307490850306,parameters k is16.67624891444796 & b is -82.81701617285866\n",
      "Iteration 86, the loss is 72.16152587133115,parameters k is16.675644418022152 & b is -82.81592478262428\n",
      "Iteration 87, the loss is 72.1600044731391,parameters k is16.675074550426732 & b is -82.81482797709232\n",
      "Iteration 88, the loss is 72.15850637966376,parameters k is16.67453647402829 & b is -82.81372620235244\n",
      "Iteration 89, the loss is 72.15702793795604,parameters k is16.674027583750526 & b is -82.81261986793517\n",
      "Iteration 90, the loss is 72.15556606928313,parameters k is16.673545488015122 & b is -82.81150934980806\n",
      "Iteration 91, the loss is 72.15411817886563,parameters k is16.6730879912446 & b is -82.81039499312634\n",
      "Iteration 92, the loss is 72.15268207980422,parameters k is16.672653077799154 & b is -82.8092771147581\n",
      "Iteration 93, the loss is 72.15125592896321,parameters k is16.672238897229924 & b is -82.80815600560261\n",
      "Iteration 94, the loss is 72.14983817293401,parameters k is16.671843750740845 & b is -82.80703193271853\n",
      "Iteration 95, the loss is 72.14842750249196,parameters k is16.671466078759995 & b is -82.80590514127779\n",
      "Iteration 96, the loss is 72.14702281421229,parameters k is16.67110444952954 & b is -82.8047758563593\n",
      "Iteration 97, the loss is 72.14562317811995,parameters k is16.670757548630785 & b is -82.80364428459565\n",
      "Iteration 98, the loss is 72.14422781042482,parameters k is16.67042416936768 & b is -82.8025106156849\n",
      "Iteration 99, the loss is 72.14283605054219,parameters k is16.67010320393847 & b is -82.8013750237784\n",
      "Iteration 100, the loss is 72.14144734172592,parameters k is16.669793635330837 & b is -82.80023766875497\n",
      "Iteration 101, the loss is 72.14006121474576,parameters k is16.669494529881295 & b is -82.79909869739056\n",
      "Iteration 102, the loss is 72.13867727413061,parameters k is16.669205030444367 & b is -82.7979582444321\n",
      "Iteration 103, the loss is 72.13729518657377,parameters k is16.66892435012159 & b is -82.7968164335833\n",
      "Iteration 104, the loss is 72.1359146711618,parameters k is16.668651766504436 & b is -82.79567337840979\n",
      "Iteration 105, the loss is 72.13453549113792,parameters k is16.668386616389075 & b is -82.79452918316989\n",
      "Iteration 106, the loss is 72.13315744696142,parameters k is16.668128290924273 & b is -82.7933839435774\n",
      "Iteration 107, the loss is 72.13178037045745,parameters k is16.66787623115695 & b is -82.79223774750189\n",
      "Iteration 108, the loss is 72.13040411988648,parameters k is16.667629923942794 & b is -82.79109067561157\n",
      "Iteration 109, the loss is 72.12902857578894,parameters k is16.66738889819202 & b is -82.78994280196345\n",
      "Iteration 110, the loss is 72.12765363748282,parameters k is16.667152721422813 & b is -82.78879419454519\n",
      "Iteration 111, the loss is 72.12627922011218,parameters k is16.66692099659722 & b is -82.78764491577247\n",
      "Iteration 112, the loss is 72.12490525215918,parameters k is16.666693359216374 & b is -82.78649502294569\n",
      "Iteration 113, the loss is 72.12353167334783,parameters k is16.666469474653752 & b is -82.78534456866913\n",
      "Iteration 114, the loss is 72.12215843287629,parameters k is16.66624903570701 & b is -82.78419360123588\n",
      "Iteration 115, the loss is 72.12078548792817,parameters k is16.66603176035044 & b is -82.78304216498114\n",
      "Iteration 116, the loss is 72.11941280241659,parameters k is16.665817389671627 & b is -82.78189030060655\n",
      "Iteration 117, the loss is 72.11804034592721,parameters k is16.66560568597722 & b is -82.78073804547803\n",
      "Iteration 118, the loss is 72.1166680928258,parameters k is16.665396431053914 & b is -82.77958543389913\n",
      "Iteration 119, the loss is 72.11529602150749,parameters k is16.665189424571984 & b is -82.778432497362\n",
      "Iteration 120, the loss is 72.11392411376248,parameters k is16.664984482619637 & b is -82.77727926477785\n",
      "Iteration 121, the loss is 72.11255235424353,parameters k is16.664781436357494 & b is -82.77612576268838\n",
      "Iteration 122, the loss is 72.11118073001495,parameters k is16.664580130783325 & b is -82.77497201546005\n",
      "Iteration 123, the loss is 72.10980923017418,parameters k is16.664380423598043 & b is -82.7738180454623\n",
      "Iteration 124, the loss is 72.1084378455318,parameters k is16.664182184164616 & b is -82.77266387323127\n",
      "Iteration 125, the loss is 72.10706656834246,parameters k is16.663985292552308 & b is -82.77150951761998\n",
      "Iteration 126, the loss is 72.10569539207786,parameters k is16.663789638659253 & b is -82.77035499593632\n",
      "Iteration 127, the loss is 72.1043243112353,parameters k is16.663595121406924 & b is -82.76920032406964\n",
      "Iteration 128, the loss is 72.10295332117686,parameters k is16.663401648000644 & b is -82.76804551660709\n",
      "Iteration 129, the loss is 72.10158241799274,parameters k is16.663209133250675 & b is -82.7668905869402\n",
      "Iteration 130, the loss is 72.10021159838753,parameters k is16.66301749894896 & b is -82.76573554736302\n",
      "Iteration 131, the loss is 72.09884085958335,parameters k is16.662826673296944 & b is -82.76458040916195\n",
      "Iteration 132, the loss is 72.09747019923819,parameters k is16.662636590380288 & b is -82.76342518269837\n",
      "Iteration 133, the loss is 72.09609961537801,parameters k is16.662447189686624 & b is -82.76226987748446\n",
      "Iteration 134, the loss is 72.09472910633838,parameters k is16.662258415662848 & b is -82.76111450225274\n",
      "Iteration 135, the loss is 72.09335867071627,parameters k is16.662070217308674 & b is -82.75995906502004\n",
      "Iteration 136, the loss is 72.09198830732826,parameters k is16.66188254780352 & b is -82.75880357314611\n",
      "Iteration 137, the loss is 72.09061801517679,parameters k is16.66169536416395 & b is -82.75764803338748\n",
      "Iteration 138, the loss is 72.08924779342057,parameters k is16.66150862692922 & b is -82.7564924519469\n",
      "Iteration 139, the loss is 72.08787764135006,parameters k is16.66132229987256 & b is -82.7553368345187\n",
      "Iteration 140, the loss is 72.08650755836655,parameters k is16.661136349736143 & b is -82.7541811863305\n",
      "Iteration 141, the loss is 72.08513754396522,parameters k is16.66095074598777 & b is -82.75302551218144\n",
      "Iteration 142, the loss is 72.08376759771997,parameters k is16.66076546059748 & b is -82.75186981647727\n",
      "Iteration 143, the loss is 72.08239771927111,parameters k is16.6605804678325 & b is -82.75071410326264\n",
      "Iteration 144, the loss is 72.08102790831522,parameters k is16.66039574406895 & b is -82.74955837625066\n",
      "Iteration 145, the loss is 72.07965816459587,parameters k is16.66021126761904 & b is -82.74840263885007\n",
      "Iteration 146, the loss is 72.07828848789659,parameters k is16.660027018572382 & b is -82.7472468941902\n",
      "Iteration 147, the loss is 72.07691887803425,parameters k is16.659842978650325 & b is -82.74609114514385\n",
      "Iteration 148, the loss is 72.07554933485417,parameters k is16.659659131072235 & b is -82.74493539434836\n",
      "Iteration 149, the loss is 72.07417985822539,parameters k is16.659475460432713 & b is -82.74377964422483\n",
      "Iteration 150, the loss is 72.07281044803726,parameters k is16.659291952588898 & b is -82.74262389699592\n",
      "Iteration 151, the loss is 72.07144110419563,parameters k is16.659108594556994 & b is -82.74146815470206\n",
      "Iteration 152, the loss is 72.0700718266209,parameters k is16.658925374417272 & b is -82.7403124192164\n",
      "Iteration 153, the loss is 72.0687026152456,parameters k is16.658742281226882 & b is -82.73915669225852\n",
      "Iteration 154, the loss is 72.06733347001209,parameters k is16.65855930493977 & b is -82.73800097540703\n",
      "Iteration 155, the loss is 72.06596439087164,parameters k is16.658376436333207 & b is -82.73684527011112\n",
      "Iteration 156, the loss is 72.06459537778221,parameters k is16.658193666940285 & b is -82.73568957770114\n",
      "Iteration 157, the loss is 72.06322643070821,parameters k is16.658010988988003 & b is -82.73453389939836\n",
      "Iteration 158, the loss is 72.06185754961915,parameters k is16.657828395340378 & b is -82.7333782363239\n",
      "Iteration 159, the loss is 72.06048873448871,parameters k is16.657645879446246 & b is -82.73222258950696\n",
      "Iteration 160, the loss is 72.05911998529427,parameters k is16.657463435291334 & b is -82.73106695989232\n",
      "Iteration 161, the loss is 72.05775130201613,parameters k is16.657281057354254 & b is -82.72991134834729\n",
      "Iteration 162, the loss is 72.05638268463746,parameters k is16.657098740566116 & b is -82.72875575566803\n",
      "Iteration 163, the loss is 72.05501413314339,parameters k is16.65691648027344 & b is -82.72760018258543\n",
      "Iteration 164, the loss is 72.05364564752092,parameters k is16.656734272204112 & b is -82.72644462977038\n",
      "Iteration 165, the loss is 72.0522772277586,parameters k is16.656552112436124 & b is -82.72528909783877\n",
      "Iteration 166, the loss is 72.05090887384623,parameters k is16.656369997368895 & b is -82.72413358735594\n",
      "Iteration 167, the loss is 72.04954058577488,parameters k is16.65618792369691 & b is -82.72297809884084\n",
      "Iteration 168, the loss is 72.04817236353642,parameters k is16.65600588838555 & b is -82.72182263276986\n",
      "Iteration 169, the loss is 72.04680420712334,parameters k is16.655823888648893 & b is -82.72066718958025\n",
      "Iteration 170, the loss is 72.04543611652917,parameters k is16.655641921929327 & b is -82.71951176967343\n",
      "Iteration 171, the loss is 72.04406809174762,parameters k is16.65545998587883 & b is -82.71835637341782\n",
      "Iteration 172, the loss is 72.04270013277306,parameters k is16.65527807834182 & b is -82.7172010011516\n",
      "Iteration 173, the loss is 72.04133223960032,parameters k is16.655096197339347 & b is -82.71604565318518\n",
      "Iteration 174, the loss is 72.03996441222439,parameters k is16.65491434105465 & b is -82.71489032980348\n",
      "Iteration 175, the loss is 72.03859665064056,parameters k is16.65473250781984 & b is -82.71373503126803\n",
      "Iteration 176, the loss is 72.03722895484448,parameters k is16.654550696103726 & b is -82.71257975781886\n",
      "Iteration 177, the loss is 72.03586132483188,parameters k is16.654368904500583 & b is -82.71142450967625\n",
      "Iteration 178, the loss is 72.03449376059874,parameters k is16.65418713171989 & b is -82.71026928704241\n",
      "Iteration 179, the loss is 72.03312626214104,parameters k is16.654005376576876 & b is -82.7091140901029\n",
      "Iteration 180, the loss is 72.03175882945506,parameters k is16.653823637983866 & b is -82.70795891902803\n",
      "Iteration 181, the loss is 72.03039146253707,parameters k is16.653641914942312 & b is -82.70680377397409\n",
      "Iteration 182, the loss is 72.02902416138359,parameters k is16.65346020653549 & b is -82.7056486550845\n",
      "Iteration 183, the loss is 72.02765692599087,parameters k is16.65327851192181 & b is -82.70449356249088\n",
      "Iteration 184, the loss is 72.02628975635554,parameters k is16.653096830328625 & b is -82.70333849631402\n",
      "Iteration 185, the loss is 72.02492265247416,parameters k is16.652915161046618 & b is -82.70218345666473\n",
      "Iteration 186, the loss is 72.02355561434331,parameters k is16.65273350342459 & b is -82.7010284436447\n",
      "Iteration 187, the loss is 72.02218864195969,parameters k is16.652551856864697 & b is -82.69987345734725\n",
      "Iteration 188, the loss is 72.02082173531994,parameters k is16.652370220818096 & b is -82.69871849785795\n",
      "Iteration 189, the loss is 72.01945489442072,parameters k is16.652188594780903 & b is -82.69756356525535\n",
      "Iteration 190, the loss is 72.01808811925878,parameters k is16.652006978290522 & b is -82.69640865961148\n",
      "Iteration 191, the loss is 72.0167214098309,parameters k is16.651825370922268 & b is -82.6952537809924\n",
      "Iteration 192, the loss is 72.0153547661337,parameters k is16.651643772286246 & b is -82.69409892945875\n",
      "Iteration 193, the loss is 72.01398818816422,parameters k is16.651462182024506 & b is -82.69294410506609\n",
      "Iteration 194, the loss is 72.01262167591898,parameters k is16.65128059980843 & b is -82.69178930786542\n",
      "Iteration 195, the loss is 72.01125522939495,parameters k is16.65109902533632 & b is -82.69063453790346\n",
      "Iteration 196, the loss is 72.0098888485888,parameters k is16.65091745833119 & b is -82.6894797952231\n",
      "Iteration 197, the loss is 72.00852253349746,parameters k is16.650735898538755 & b is -82.68832507986359\n",
      "Iteration 198, the loss is 72.00715628411756,parameters k is16.650554345725556 & b is -82.68717039186097\n",
      "Iteration 199, the loss is 72.00579010044602,parameters k is16.65037279967726 & b is -82.68601573124826\n",
      "Iteration 200, the loss is 72.00442398247968,parameters k is16.65019126019709 & b is -82.6848610980557\n",
      "Iteration 201, the loss is 72.0030579302154,parameters k is16.650009727104386 & b is -82.683706492311\n",
      "Iteration 202, the loss is 72.00169194364985,parameters k is16.649828200233287 & b is -82.68255191403956\n",
      "Iteration 203, the loss is 72.00032602278006,parameters k is16.649646679431516 & b is -82.68139736326464\n",
      "Iteration 204, the loss is 71.99896016760268,parameters k is16.649465164559267 & b is -82.68024284000751\n",
      "Iteration 205, the loss is 71.99759437811456,parameters k is16.649283655488187 & b is -82.67908834428768\n",
      "Iteration 206, the loss is 71.99622865431277,parameters k is16.649102152100426 & b is -82.67793387612299\n",
      "Iteration 207, the loss is 71.99486299619373,parameters k is16.64892065428779 & b is -82.67677943552977\n",
      "Iteration 208, the loss is 71.99349740375465,parameters k is16.64873916195094 & b is -82.67562502252294\n",
      "Iteration 209, the loss is 71.99213187699219,parameters k is16.64855767499867 & b is -82.67447063711616\n",
      "Iteration 210, the loss is 71.99076641590328,parameters k is16.648376193347243 & b is -82.67331627932192\n",
      "Iteration 211, the loss is 71.98940102048459,parameters k is16.64819471691977 & b is -82.67216194915162\n",
      "Iteration 212, the loss is 71.98803569073313,parameters k is16.648013245645668 & b is -82.67100764661565\n",
      "Iteration 213, the loss is 71.98667042664574,parameters k is16.647831779460113 & b is -82.66985337172355\n",
      "Iteration 214, the loss is 71.98530522821916,parameters k is16.647650318303594 & b is -82.66869912448396\n",
      "Iteration 215, the loss is 71.98394009545021,parameters k is16.647468862121467 & b is -82.66754490490482\n",
      "Iteration 216, the loss is 71.98257502833583,parameters k is16.647287410863562 & b is -82.66639071299329\n",
      "Iteration 217, the loss is 71.98121002687293,parameters k is16.647105964483806 & b is -82.66523654875597\n",
      "Iteration 218, the loss is 71.97984509105811,parameters k is16.646924522939894 & b is -82.66408241219881\n",
      "Iteration 219, the loss is 71.97848022088839,parameters k is16.646743086192984 & b is -82.66292830332722\n",
      "Iteration 220, the loss is 71.97711541636052,parameters k is16.646561654207403 & b is -82.66177422214614\n",
      "Iteration 221, the loss is 71.97575067747145,parameters k is16.6463802269504 & b is -82.66062016866003\n",
      "Iteration 222, the loss is 71.97438600421793,parameters k is16.64619880439189 & b is -82.65946614287294\n",
      "Iteration 223, the loss is 71.97302139659688,parameters k is16.646017386504255 & b is -82.65831214478852\n",
      "Iteration 224, the loss is 71.97165685460509,parameters k is16.645835973262123 & b is -82.65715817441009\n",
      "Iteration 225, the loss is 71.97029237823932,parameters k is16.6456545646422 & b is -82.65600423174061\n",
      "Iteration 226, the loss is 71.96892796749663,parameters k is16.645473160623087 & b is -82.65485031678277\n",
      "Iteration 227, the loss is 71.96756362237372,parameters k is16.645291761185135 & b is -82.65369642953897\n",
      "Iteration 228, the loss is 71.9661993428674,parameters k is16.64511036631029 & b is -82.65254257001136\n",
      "Iteration 229, the loss is 71.96483512897461,parameters k is16.644928975981976 & b is -82.65138873820187\n",
      "Iteration 230, the loss is 71.9634709806921,parameters k is16.644747590184963 & b is -82.65023493411222\n",
      "Iteration 231, the loss is 71.96210689801683,parameters k is16.644566208905264 & b is -82.64908115774391\n",
      "Iteration 232, the loss is 71.96074288094552,parameters k is16.644384832130026 & b is -82.64792740909827\n",
      "Iteration 233, the loss is 71.95937892947518,parameters k is16.644203459847443 & b is -82.6467736881765\n",
      "Iteration 234, the loss is 71.95801504360244,parameters k is16.644022092046665 & b is -82.6456199949796\n",
      "Iteration 235, the loss is 71.95665122332433,parameters k is16.643840728717727 & b is -82.64446632950846\n",
      "Iteration 236, the loss is 71.95528746863755,parameters k is16.643659369851466 & b is -82.64331269176384\n",
      "Iteration 237, the loss is 71.95392377953901,parameters k is16.64347801543947 & b is -82.64215908174637\n",
      "Iteration 238, the loss is 71.9525601560256,parameters k is16.643296665474 & b is -82.64100549945658\n",
      "Iteration 239, the loss is 71.95119659809423,parameters k is16.643115319947945 & b is -82.63985194489491\n",
      "Iteration 240, the loss is 71.94983310574149,parameters k is16.64293397885477 & b is -82.63869841806172\n",
      "Iteration 241, the loss is 71.94846967896446,parameters k is16.642752642188466 & b is -82.63754491895725\n",
      "Iteration 242, the loss is 71.94710631775992,parameters k is16.64257130994351 & b is -82.63639144758169\n",
      "Iteration 243, the loss is 71.94574302212452,parameters k is16.642389982114814 & b is -82.63523800393516\n",
      "Iteration 244, the loss is 71.94437979205551,parameters k is16.64220865869771 & b is -82.6340845880177\n",
      "Iteration 245, the loss is 71.94301662754945,parameters k is16.642027339687903 & b is -82.63293119982932\n",
      "Iteration 246, the loss is 71.94165352860328,parameters k is16.64184602508143 & b is -82.63177783936993\n",
      "Iteration 247, the loss is 71.9402904952137,parameters k is16.641664714874654 & b is -82.63062450663945\n",
      "Iteration 248, the loss is 71.93892752737783,parameters k is16.641483409064225 & b is -82.62947120163771\n",
      "Iteration 249, the loss is 71.93756462509235,parameters k is16.64130210764706 & b is -82.62831792436451\n",
      "Iteration 250, the loss is 71.93620178835398,parameters k is16.64112081062032 & b is -82.62716467481961\n",
      "Iteration 251, the loss is 71.93483901715985,parameters k is16.640939517981387 & b is -82.62601145300275\n",
      "Iteration 252, the loss is 71.93347631150658,parameters k is16.640758229727854 & b is -82.62485825891362\n",
      "Iteration 253, the loss is 71.93211367139112,parameters k is16.640576945857497 & b is -82.62370509255187\n",
      "Iteration 254, the loss is 71.9307510968103,parameters k is16.64039566636827 & b is -82.62255195391717\n",
      "Iteration 255, the loss is 71.929388587761,parameters k is16.640214391258286 & b is -82.6213988430091\n",
      "Iteration 256, the loss is 71.92802614424004,parameters k is16.6400331205258 & b is -82.62024575982728\n",
      "Iteration 257, the loss is 71.92666376624429,parameters k is16.639851854169205 & b is -82.61909270437127\n",
      "Iteration 258, the loss is 71.92530145377056,parameters k is16.639670592187016 & b is -82.6179396766406\n",
      "Iteration 259, the loss is 71.9239392068156,parameters k is16.639489334577863 & b is -82.61678667663483\n",
      "Iteration 260, the loss is 71.92257702537651,parameters k is16.639308081340477 & b is -82.61563370435346\n",
      "Iteration 261, the loss is 71.92121490944997,parameters k is16.639126832473686 & b is -82.614480759796\n",
      "Iteration 262, the loss is 71.91985285903284,parameters k is16.638945587976405 & b is -82.61332784296192\n",
      "Iteration 263, the loss is 71.91849087412196,parameters k is16.638764347847626 & b is -82.61217495385073\n",
      "Iteration 264, the loss is 71.9171289547143,parameters k is16.638583112086422 & b is -82.61102209246185\n",
      "Iteration 265, the loss is 71.91576710080659,parameters k is16.63840188069193 & b is -82.60986925879476\n",
      "Iteration 266, the loss is 71.9144053123957,parameters k is16.638220653663346 & b is -82.6087164528489\n",
      "Iteration 267, the loss is 71.9130435894785,parameters k is16.638039430999928 & b is -82.60756367462369\n",
      "Iteration 268, the loss is 71.91168193205188,parameters k is16.637858212700984 & b is -82.60641092411858\n",
      "Iteration 269, the loss is 71.91032034011246,parameters k is16.63767699876587 & b is -82.60525820133297\n",
      "Iteration 270, the loss is 71.90895881365748,parameters k is16.637495789193988 & b is -82.60410550626628\n",
      "Iteration 271, the loss is 71.90759735268355,parameters k is16.63731458398478 & b is -82.6029528389179\n",
      "Iteration 272, the loss is 71.90623595718743,parameters k is16.63713338313772 & b is -82.60180019928724\n",
      "Iteration 273, the loss is 71.90487462716618,parameters k is16.636952186652323 & b is -82.6006475873737\n",
      "Iteration 274, the loss is 71.90351336261655,parameters k is16.636770994528135 & b is -82.59949500317666\n",
      "Iteration 275, the loss is 71.90215216353543,parameters k is16.636589806764725 & b is -82.5983424466955\n",
      "Iteration 276, the loss is 71.90079102991965,parameters k is16.636408623361696 & b is -82.5971899179296\n",
      "Iteration 277, the loss is 71.89942996176602,parameters k is16.636227444318667 & b is -82.59603741687835\n",
      "Iteration 278, the loss is 71.89806895907144,parameters k is16.636046269635287 & b is -82.5948849435411\n",
      "Iteration 279, the loss is 71.8967080218328,parameters k is16.63586509931122 & b is -82.59373249791724\n",
      "Iteration 280, the loss is 71.89534715004682,parameters k is16.635683933346154 & b is -82.59258008000614\n",
      "Iteration 281, the loss is 71.8939863437105,parameters k is16.635502771739787 & b is -82.59142768980716\n",
      "Iteration 282, the loss is 71.89262560282062,parameters k is16.63532161449184 & b is -82.59027532731965\n",
      "Iteration 283, the loss is 71.891264927374,parameters k is16.635140461602045 & b is -82.58912299254297\n",
      "Iteration 284, the loss is 71.8899043173675,parameters k is16.634959313070148 & b is -82.58797068547648\n",
      "Iteration 285, the loss is 71.88854377279812,parameters k is16.634778168895906 & b is -82.58681840611953\n",
      "Iteration 286, the loss is 71.88718329366255,parameters k is16.63459702907909 & b is -82.5856661544715\n",
      "Iteration 287, the loss is 71.88582287995764,parameters k is16.634415893619476 & b is -82.58451393053171\n",
      "Iteration 288, the loss is 71.8844625316804,parameters k is16.634234762516858 & b is -82.58336173429953\n",
      "Iteration 289, the loss is 71.88310224882748,parameters k is16.634053635771032 & b is -82.5822095657743\n",
      "Iteration 290, the loss is 71.88174203139587,parameters k is16.633872513381803 & b is -82.58105742495538\n",
      "Iteration 291, the loss is 71.88038187938251,parameters k is16.633691395348983 & b is -82.5799053118421\n",
      "Iteration 292, the loss is 71.87902179278392,parameters k is16.633510281672393 & b is -82.5787532264338\n",
      "Iteration 293, the loss is 71.87766177159723,parameters k is16.63332917235186 & b is -82.57760116872986\n",
      "Iteration 294, the loss is 71.87630181581933,parameters k is16.633148067387218 & b is -82.57644913872959\n",
      "Iteration 295, the loss is 71.87494192544688,parameters k is16.632966966778298 & b is -82.57529713643234\n",
      "Iteration 296, the loss is 71.87358210047688,parameters k is16.63278587052495 & b is -82.57414516183745\n",
      "Iteration 297, the loss is 71.87222234090613,parameters k is16.63260477862701 & b is -82.57299321494428\n",
      "Iteration 298, the loss is 71.87086264673138,parameters k is16.632423691084334 & b is -82.57184129575215\n",
      "Iteration 299, the loss is 71.86950301794977,parameters k is16.632242607896778 & b is -82.5706894042604\n"
     ]
    }
   ],
   "source": [
    "#初始化\n",
    "k = random.random() * 200 -100 # random:0-1. k,b:-100-100\n",
    "b = random.random() * 200 -100\n",
    "learning_rate = 1e-3 # 学习斜率\n",
    "iteration_number=300\n",
    "losses=[]\n",
    "\n",
    "#梯度下降递归\n",
    "for i in range(iteration_number):\n",
    "    y_hat = [price(r,k,b) for r in X_rm] \n",
    "    current_loss = loss(y,y_hat)\n",
    "    losses.append(current_loss)\n",
    "    print(\"Iteration {}, the loss is {},parameters k is{} & b is {}\".format(i,current_loss,k,b))\n",
    "\n",
    "    k_gradient = partial_derivative_k(X_rm, y, y_hat)\n",
    "    b_gradient = partial_derivative_b(y, y_hat)\n",
    "    \n",
    "    k = k + (-1 * k_gradient) * learning_rate\n",
    "    b = b + (-1 * b_gradient) * learning_rate\n",
    "\n",
    "best_k = k\n",
    "best_b = b"
   ]
  },
  {
   "cell_type": "code",
   "execution_count": 98,
   "metadata": {},
   "outputs": [
    {
     "data": {
      "text/plain": [
       "[<matplotlib.lines.Line2D at 0x20925fff0f0>]"
      ]
     },
     "execution_count": 98,
     "metadata": {},
     "output_type": "execute_result"
    },
    {
     "data": {
      "image/png": "[encoded data removed]",
      "text/plain": [
       "<Figure size 432x288 with 1 Axes>"
      ]
     },
     "metadata": {
      "needs_background": "light"
     },
     "output_type": "display_data"
    }
   ],
   "source": [
    "plt.plot(list(range(iteration_number)),losses)"
   ]
  },
  {
   "cell_type": "code",
   "execution_count": 99,
   "metadata": {},
   "outputs": [
    {
     "data": {
      "text/plain": [
       "<matplotlib.collections.PathCollection at 0x20925f949e8>"
      ]
     },
     "execution_count": 99,
     "metadata": {},
     "output_type": "execute_result"
    },
    {
     "data": {
      "image/png": "[encoded data removed]",
      "text/plain": [
       "<Figure size 432x288 with 1 Axes>"
      ]
     },
     "metadata": {
      "needs_background": "light"
     },
     "output_type": "display_data"
    }
   ],
   "source": [
    "price_best_paraments = [price(r, best_k, best_b) for r in X_rm]\n",
    "\n",
    "plt.scatter(X_rm, y)\n",
    "plt.scatter(X_rm, price_best_paraments)"
   ]
  },
  {
   "cell_type": "code",
   "execution_count": null,
   "metadata": {},
   "outputs": [],
   "source": []
  },
  {
   "cell_type": "code",
   "execution_count": null,
   "metadata": {},
   "outputs": [],
   "source": []
  },
  {
   "cell_type": "code",
   "execution_count": null,
   "metadata": {},
   "outputs": [],
   "source": []
  }
 ],
 "metadata": {
  "kernelspec": {
   "display_name": "Python 3",
   "language": "python",
   "name": "python3"
  },
  "language_info": {
   "codemirror_mode": {
    "name": "ipython",
    "version": 3
   },
   "file_extension": ".py",
   "mimetype": "text/x-python",
   "name": "python",
   "nbconvert_exporter": "python",
   "pygments_lexer": "ipython3",
   "version": "3.6.9"
  }
 },
 "nbformat": 4,
 "nbformat_minor": 2
}
